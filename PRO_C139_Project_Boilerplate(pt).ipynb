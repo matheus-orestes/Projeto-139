{
  "cells": [
    {
      "cell_type": "code",
      "execution_count": null,
      "metadata": {
        "id": "KBuUVGFPShx3"
      },
      "outputs": [],
      "source": [
        "# instalando o módulo kaggle\n",
        "!pip install kaggle"
      ]
    },
    {
      "cell_type": "code",
      "execution_count": null,
      "metadata": {
        "id": "7uCaPHSHSmZy"
      },
      "outputs": [],
      "source": [
        "# Carregue o kaggle.json aqui\n",
        "from google.colab import files\n",
        "files.upload()"
      ]
    },
    {
      "cell_type": "code",
      "execution_count": null,
      "metadata": {
        "id": "hPVfdK4fSpeh"
      },
      "outputs": [],
      "source": [
        "# Criando um diretório oculto, copiando o kaggle.json para ele e alterando as suas permissões\n",
        "!mkdir -p ~/.kaggle\n",
        "!cp kaggle.json ~/.kaggle/\n",
        "\n",
        "!chmod 600 ~/.kaggle/kaggle.json"
      ]
    },
    {
      "cell_type": "code",
      "execution_count": null,
      "metadata": {
        "id": "9i41QM4PSvka"
      },
      "outputs": [],
      "source": [
        "# baixando o conjunto de dados\n",
        "!kaggle datasets download -d gspmoreira/articles-sharing-reading-from-cit-deskdrop"
      ]
    },
    {
      "cell_type": "code",
      "execution_count": null,
      "metadata": {
        "id": "S-JRVbOnS0wl"
      },
      "outputs": [],
      "source": [
        "# Listando todos os arquivos do diretório de trabalho\n",
        "!ls"
      ]
    },
    {
      "cell_type": "code",
      "execution_count": null,
      "metadata": {
        "id": "1lUtFnRwS4R_"
      },
      "outputs": [],
      "source": [
        "# Descompactando os arquivos baixados\n",
        "!unzip articles-sharing-reading-from-cit-deskdrop.zip"
      ]
    },
    {
      "cell_type": "code",
      "execution_count": null,
      "metadata": {
        "id": "NgjGHZN2TBHF"
      },
      "outputs": [],
      "source": [
        "# criando o dataframe\n",
        "import pandas as pd \n",
        "import numpy as np \n",
        "\n",
        "df1=pd.read_csv('shared_articles.csv')\n",
        "df2=pd.read_csv('users_interactions.csv')"
      ]
    },
    {
      "cell_type": "code",
      "execution_count": null,
      "metadata": {
        "id": "xxnUCAwxTcX9"
      },
      "outputs": [],
      "source": [
        "# Imprimindo as primeiras 5 linhas do primeiro conjunto de dados\n",
        "df1.head()"
      ]
    },
    {
      "cell_type": "code",
      "execution_count": null,
      "metadata": {
        "id": "syZIBCAvThKY"
      },
      "outputs": [],
      "source": [
        "# Imprimindo as primeiras 5 linhas do segundo conjunto de dados\n",
        "df2.head()"
      ]
    },
    {
      "cell_type": "code",
      "execution_count": null,
      "metadata": {
        "id": "EH15mgev5fea"
      },
      "outputs": [],
      "source": [
        "# Informações do primeiro conjunto de dados\n",
        "df1.info()"
      ]
    },
    {
      "cell_type": "code",
      "execution_count": null,
      "metadata": {
        "id": "sH-ryJxk5fy9"
      },
      "outputs": [],
      "source": [
        "# Informações do segundo conjunto de dados\n",
        "df2.info()"
      ]
    },
    {
      "cell_type": "markdown",
      "metadata": {
        "id": "eq8SWYlqsS5Y"
      },
      "source": [
        "# Filtragem Demográfica"
      ]
    },
    {
      "cell_type": "code",
      "execution_count": null,
      "metadata": {
        "id": "l3i-xQB8FTs7"
      },
      "outputs": [],
      "source": [
        "# imprimindo o título e o tipo de evento dos 10 primeiros artigos\n",
        "df1[['title', 'eventType']].head(10)"
      ]
    },
    {
      "cell_type": "code",
      "execution_count": null,
      "metadata": {
        "id": "B2XksQoGTmWN"
      },
      "outputs": [],
      "source": [
        "# mantendo linhas com tipo de evento \"CONTENT SHARED\"\n",
        "import pandas as pd\n",
        "credits_df = pd.read_csv('/content/PRO_1-1_C138_KaggleMovieData/tmdb_5000_credits.csv')\n",
        "movies_df = pd.read_csv('/content/PRO_1-1_C138_KaggleMovieData/tmdb_5000_movies.csv')"
      ]
    },
    {
      "cell_type": "code",
      "execution_count": null,
      "metadata": {
        "id": "U1QkCKKbTqyD"
      },
      "outputs": [],
      "source": [
        "# imprimindo a forma para verificar\n",
        "events.head()"
      ]
    },
    {
      "cell_type": "code",
      "execution_count": null,
      "metadata": {
        "id": "14un72B3tag-"
      },
      "outputs": [],
      "source": [
        "# encontrando o total de eventos\n",
        "total_views = df2[(df2[\"contentid\"] == dfl_row[\"contentid\"]) & (df2[\"eventType\"] == \"VIEW\")].shape[0]"
      ]
    },
    {
      "cell_type": "code",
      "execution_count": null,
      "metadata": {
        "id": "KkvN0xwAegWz"
      },
      "outputs": [],
      "source": [
        "# classifique o dataframe\n",
        "result_df.shape\n",
        "result_df.info()"
      ]
    },
    {
      "cell_type": "code",
      "execution_count": null,
      "metadata": {
        "id": "MhwJpf6Gh2bE"
      },
      "outputs": [],
      "source": [
        "# imprimindo os 10 melhores artigos com o nome do título e o total de eventos\n",
        "result_df[['contentid' , ' eventType', 'VIEW']].head(10)"
      ]
    }
  ],
  "metadata": {
    "colab": {
      "collapsed_sections": [],
      "provenance": []
    },
    "kernelspec": {
      "display_name": "Python 3",
      "name": "python3"
    }
  },
  "nbformat": 4,
  "nbformat_minor": 0
}
